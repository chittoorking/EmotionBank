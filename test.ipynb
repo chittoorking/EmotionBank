{
 "cells": [
  {
   "cell_type": "code",
   "execution_count": 1,
   "metadata": {},
   "outputs": [],
   "source": [
    "import os\n",
    "import shutil"
   ]
  },
  {
   "cell_type": "code",
   "execution_count": 6,
   "metadata": {},
   "outputs": [
    {
     "ename": "SyntaxError",
     "evalue": "(unicode error) 'unicodeescape' codec can't decode bytes in position 2-3: truncated \\UXXXXXXXX escape (3646764425.py, line 1)",
     "output_type": "error",
     "traceback": [
      "\u001b[1;36m  Cell \u001b[1;32mIn[6], line 1\u001b[1;36m\u001b[0m\n\u001b[1;33m    file_name = \"C:\\Users\\chitt\\AppData\\Local\\Temp\\gradio\\1952c568c9c132ed54146a27d056a17207ab68f399cd9754c96bd28a55ff5b3d\\family_dinner.png\"\u001b[0m\n\u001b[1;37m                                                                                                                                             ^\u001b[0m\n\u001b[1;31mSyntaxError\u001b[0m\u001b[1;31m:\u001b[0m (unicode error) 'unicodeescape' codec can't decode bytes in position 2-3: truncated \\UXXXXXXXX escape\n"
     ]
    }
   ],
   "source": [
    "file_name = \"C:\\Users\\chitt\\AppData\\Local\\Temp\\gradio\\1952c568c9c132ed54146a27d056a17207ab68f399cd9754c96bd28a55ff5b3d\\family_dinner.png\""
   ]
  },
  {
   "cell_type": "code",
   "execution_count": 2,
   "metadata": {},
   "outputs": [
    {
     "ename": "SyntaxError",
     "evalue": "(unicode error) 'unicodeescape' codec can't decode bytes in position 2-3: truncated \\UXXXXXXXX escape (2011160018.py, line 1)",
     "output_type": "error",
     "traceback": [
      "\u001b[1;36m  Cell \u001b[1;32mIn[2], line 1\u001b[1;36m\u001b[0m\n\u001b[1;33m    shutil.copy('C:\\Users\\chitt\\AppData\\Local\\Temp\\gradio\\1952c568c9c132ed54146a27d056a17207ab68f399cd9754c96bd28a55ff5b3d\\family_dinner.png', './uploads/images/1737253768_family_dinner.png')\u001b[0m\n\u001b[1;37m                                                                                                                                             ^\u001b[0m\n\u001b[1;31mSyntaxError\u001b[0m\u001b[1;31m:\u001b[0m (unicode error) 'unicodeescape' codec can't decode bytes in position 2-3: truncated \\UXXXXXXXX escape\n"
     ]
    }
   ],
   "source": [
    "shutil.copy('C:\\Users\\chitt\\AppData\\Local\\Temp\\gradio\\1952c568c9c132ed54146a27d056a17207ab68f399cd9754c96bd28a55ff5b3d\\family_dinner.png', './uploads/images/1737253768_family_dinner.png')"
   ]
  },
  {
   "cell_type": "code",
   "execution_count": 2,
   "metadata": {},
   "outputs": [],
   "source": [
    "import os"
   ]
  },
  {
   "cell_type": "code",
   "execution_count": 7,
   "metadata": {},
   "outputs": [],
   "source": [
    "# current_dir = os.path.dirname(os.path.abspath(__file__))\n",
    "current_directory = os.getcwd() \n",
    "\n",
    "# Construct the full path to the upload folder\n",
    "upload_folder = os.path.join(current_directory, \"uploads\\\\images\") "
   ]
  },
  {
   "cell_type": "code",
   "execution_count": 8,
   "metadata": {},
   "outputs": [
    {
     "data": {
      "text/plain": [
       "'c:\\\\Users\\\\chitt\\\\Downloads\\\\Humanize_Article\\\\Emotionbank_gradio\\\\uploads\\\\images'"
      ]
     },
     "execution_count": 8,
     "metadata": {},
     "output_type": "execute_result"
    }
   ],
   "source": [
    "upload_folder"
   ]
  }
 ],
 "metadata": {
  "kernelspec": {
   "display_name": "Mini_Project",
   "language": "python",
   "name": "python3"
  },
  "language_info": {
   "codemirror_mode": {
    "name": "ipython",
    "version": 3
   },
   "file_extension": ".py",
   "mimetype": "text/x-python",
   "name": "python",
   "nbconvert_exporter": "python",
   "pygments_lexer": "ipython3",
   "version": "3.10.16"
  }
 },
 "nbformat": 4,
 "nbformat_minor": 2
}
